{
 "cells": [
  {
   "cell_type": "markdown",
   "id": "d81bf83b",
   "metadata": {},
   "source": [
    "# Pandas RAG 모델 구축"
   ]
  },
  {
   "cell_type": "markdown",
   "id": "1e77253a",
   "metadata": {},
   "source": [
    "**[필요한 라이브러리 호출 및 API키 설정]**"
   ]
  },
  {
   "cell_type": "code",
   "execution_count": 2,
   "id": "def542cc",
   "metadata": {},
   "outputs": [],
   "source": [
    "from dotenv import load_dotenv; load_dotenv()  # dev에서만\n",
    "import os\n",
    "OPENAI_API = os.getenv(\"OPENAI_API\")"
   ]
  },
  {
   "cell_type": "code",
   "execution_count": 3,
   "id": "c5eca322",
   "metadata": {},
   "outputs": [],
   "source": [
    "import os\n",
    "os.chdir(r'C:\\Users\\Hopedom\\Documents\\DS5-LangChain\\Langchain-RAG\\\\')"
   ]
  },
  {
   "cell_type": "markdown",
   "id": "b26ae73b",
   "metadata": {},
   "source": [
    "## **[문서 로드/분할 및 벡터 임베딩]**"
   ]
  },
  {
   "cell_type": "markdown",
   "id": "57e0dff1",
   "metadata": {},
   "source": [
    "### [문서를 LangChain Document 객체로 로드]\n",
    "\n",
    "</br>\n",
    "\n",
    "$$\\text{DirectoryLoader} \\xrightarrow{\\text{탐색 및 경로 전달}} \\text{UnstructuredFileLoader} \\xrightarrow{\\text{파싱 및 텍스트 추출}} \\text{Document 객체}$$\n",
    "\n",
    "\n",
    "- `DirectoryLoader`는 `pandas/doc/source 디렉터리` 내부를 탐색하며, 발견된 모든 `rst` 파일 경로를 `UnstructuredFileLoader`에게 전달하는 역할 수행\n",
    "- `UnstructuredFileLoader`는 `DirectoryLoader`가 찾은 개별 rst 파일 경로를 받아, 파일 내용을 읽고 rst 마크업을 어느 정도 제거하여 순수한 텍스트를 추출하는 실질적인 파싱 작업을 수행"
   ]
  },
  {
   "cell_type": "code",
   "execution_count": 4,
   "id": "a57c30d6",
   "metadata": {},
   "outputs": [
    {
     "name": "stdout",
     "output_type": "stream",
     "text": [
      "로컬 경로 '../pandas/doc/source'에서 .rst 파일 로드 시작...\n"
     ]
    },
    {
     "name": "stderr",
     "output_type": "stream",
     "text": [
      "  9%|▉         | 19/211 [00:14<01:26,  2.22it/s][WARNING] Reference not found for 'np.r' at C:\\Users\\Hopedom\\Documents\\DS5-LangChain\\Langchain-RAG\\..\\pandas\\doc\\source\\getting_started\\comparison\\comparison_with_r.rst line 579 column 1\n",
      "\n",
      "  9%|▉         | 20/211 [00:15<01:40,  1.90it/s][WARNING] Could not load include file includes/introduction.rst at C:\\Users\\Hopedom\\Documents\\DS5-LangChain\\Langchain-RAG\\..\\pandas\\doc\\source\\getting_started\\comparison\\comparison_with_sas.rst line 15 column 1\n",
      "[WARNING] Could not load include file includes/copies.rst at C:\\Users\\Hopedom\\Documents\\DS5-LangChain\\Langchain-RAG\\..\\pandas\\doc\\source\\getting_started\\comparison\\comparison_with_sas.rst line 71 column 1\n",
      "[WARNING] Could not load include file includes/construct_dataframe.rst at C:\\Users\\Hopedom\\Documents\\DS5-LangChain\\Langchain-RAG\\..\\pandas\\doc\\source\\getting_started\\comparison\\comparison_with_sas.rst line 94 column 1\n",
      "[WARNING] Could not load include file includes/limit.rst at C:\\Users\\Hopedom\\Documents\\DS5-LangChain\\Langchain-RAG\\..\\pandas\\doc\\source\\getting_started\\comparison\\comparison_with_sas.rst line 142 column 1\n",
      "[WARNING] Could not load include file includes/column_operations.rst at C:\\Users\\Hopedom\\Documents\\DS5-LangChain\\Langchain-RAG\\..\\pandas\\doc\\source\\getting_started\\comparison\\comparison_with_sas.rst line 188 column 1\n",
      "[WARNING] Could not load include file includes/filtering.rst at C:\\Users\\Hopedom\\Documents\\DS5-LangChain\\Langchain-RAG\\..\\pandas\\doc\\source\\getting_started\\comparison\\comparison_with_sas.rst line 210 column 1\n",
      "[WARNING] Could not load include file includes/if_then.rst at C:\\Users\\Hopedom\\Documents\\DS5-LangChain\\Langchain-RAG\\..\\pandas\\doc\\source\\getting_started\\comparison\\comparison_with_sas.rst line 227 column 1\n",
      "[WARNING] Could not load include file includes/time_date.rst at C:\\Users\\Hopedom\\Documents\\DS5-LangChain\\Langchain-RAG\\..\\pandas\\doc\\source\\getting_started\\comparison\\comparison_with_sas.rst line 255 column 1\n",
      "[WARNING] Could not load include file includes/column_selection.rst at C:\\Users\\Hopedom\\Documents\\DS5-LangChain\\Langchain-RAG\\..\\pandas\\doc\\source\\getting_started\\comparison\\comparison_with_sas.rst line 281 column 1\n",
      "[WARNING] Could not load include file includes/sorting.rst at C:\\Users\\Hopedom\\Documents\\DS5-LangChain\\Langchain-RAG\\..\\pandas\\doc\\source\\getting_started\\comparison\\comparison_with_sas.rst line 294 column 1\n",
      "[WARNING] Could not load include file includes/length.rst at C:\\Users\\Hopedom\\Documents\\DS5-LangChain\\Langchain-RAG\\..\\pandas\\doc\\source\\getting_started\\comparison\\comparison_with_sas.rst line 316 column 1\n",
      "[WARNING] Could not load include file includes/find_substring.rst at C:\\Users\\Hopedom\\Documents\\DS5-LangChain\\Langchain-RAG\\..\\pandas\\doc\\source\\getting_started\\comparison\\comparison_with_sas.rst line 334 column 1\n",
      "[WARNING] Could not load include file includes/extract_substring.rst at C:\\Users\\Hopedom\\Documents\\DS5-LangChain\\Langchain-RAG\\..\\pandas\\doc\\source\\getting_started\\comparison\\comparison_with_sas.rst line 350 column 1\n",
      "[WARNING] Could not load include file includes/nth_word.rst at C:\\Users\\Hopedom\\Documents\\DS5-LangChain\\Langchain-RAG\\..\\pandas\\doc\\source\\getting_started\\comparison\\comparison_with_sas.rst line 372 column 1\n",
      "[WARNING] Could not load include file includes/case.rst at C:\\Users\\Hopedom\\Documents\\DS5-LangChain\\Langchain-RAG\\..\\pandas\\doc\\source\\getting_started\\comparison\\comparison_with_sas.rst line 396 column 1\n",
      "[WARNING] Could not load include file includes/merge_setup.rst at C:\\Users\\Hopedom\\Documents\\DS5-LangChain\\Langchain-RAG\\..\\pandas\\doc\\source\\getting_started\\comparison\\comparison_with_sas.rst line 401 column 1\n",
      "[WARNING] Could not load include file includes/merge.rst at C:\\Users\\Hopedom\\Documents\\DS5-LangChain\\Langchain-RAG\\..\\pandas\\doc\\source\\getting_started\\comparison\\comparison_with_sas.rst line 428 column 1\n",
      "[WARNING] Could not load include file includes/missing_intro.rst at C:\\Users\\Hopedom\\Documents\\DS5-LangChain\\Langchain-RAG\\..\\pandas\\doc\\source\\getting_started\\comparison\\comparison_with_sas.rst line 435 column 1\n",
      "[WARNING] Could not load include file includes/missing.rst at C:\\Users\\Hopedom\\Documents\\DS5-LangChain\\Langchain-RAG\\..\\pandas\\doc\\source\\getting_started\\comparison\\comparison_with_sas.rst line 453 column 1\n",
      "[WARNING] Could not load include file includes/groupby.rst at C:\\Users\\Hopedom\\Documents\\DS5-LangChain\\Langchain-RAG\\..\\pandas\\doc\\source\\getting_started\\comparison\\comparison_with_sas.rst line 474 column 1\n",
      "[WARNING] Could not load include file includes/transform.rst at C:\\Users\\Hopedom\\Documents\\DS5-LangChain\\Langchain-RAG\\..\\pandas\\doc\\source\\getting_started\\comparison\\comparison_with_sas.rst line 503 column 1\n",
      "\n",
      " 10%|▉         | 21/211 [00:15<01:47,  1.76it/s][WARNING] Could not load include file includes/introduction.rst at C:\\Users\\Hopedom\\Documents\\DS5-LangChain\\Langchain-RAG\\..\\pandas\\doc\\source\\getting_started\\comparison\\comparison_with_spreadsheets.rst line 19 column 1\n",
      "[WARNING] Could not load include file includes/copies.rst at C:\\Users\\Hopedom\\Documents\\DS5-LangChain\\Langchain-RAG\\..\\pandas\\doc\\source\\getting_started\\comparison\\comparison_with_spreadsheets.rst line 75 column 1\n",
      "[WARNING] Could not load include file includes/construct_dataframe.rst at C:\\Users\\Hopedom\\Documents\\DS5-LangChain\\Langchain-RAG\\..\\pandas\\doc\\source\\getting_started\\comparison\\comparison_with_spreadsheets.rst line 85 column 1\n",
      "[WARNING] Could not load include file includes/limit.rst at C:\\Users\\Hopedom\\Documents\\DS5-LangChain\\Langchain-RAG\\..\\pandas\\doc\\source\\getting_started\\comparison\\comparison_with_spreadsheets.rst line 153 column 1\n",
      "[WARNING] Could not load include file includes/column_operations.rst at C:\\Users\\Hopedom\\Documents\\DS5-LangChain\\Langchain-RAG\\..\\pandas\\doc\\source\\getting_started\\comparison\\comparison_with_spreadsheets.rst line 175 column 1\n",
      "[WARNING] Could not load include file includes/filtering.rst at C:\\Users\\Hopedom\\Documents\\DS5-LangChain\\Langchain-RAG\\..\\pandas\\doc\\source\\getting_started\\comparison\\comparison_with_spreadsheets.rst line 190 column 1\n",
      "[WARNING] Could not load include file includes/if_then.rst at C:\\Users\\Hopedom\\Documents\\DS5-LangChain\\Langchain-RAG\\..\\pandas\\doc\\source\\getting_started\\comparison\\comparison_with_spreadsheets.rst line 207 column 1\n",
      "[WARNING] Could not load include file includes/time_date.rst at C:\\Users\\Hopedom\\Documents\\DS5-LangChain\\Langchain-RAG\\..\\pandas\\doc\\source\\getting_started\\comparison\\comparison_with_spreadsheets.rst line 249 column 1\n",
      "[WARNING] Could not load include file includes/column_selection.rst at C:\\Users\\Hopedom\\Documents\\DS5-LangChain\\Langchain-RAG\\..\\pandas\\doc\\source\\getting_started\\comparison\\comparison_with_spreadsheets.rst line 268 column 1\n",
      "[WARNING] Could not load include file includes/sorting.rst at C:\\Users\\Hopedom\\Documents\\DS5-LangChain\\Langchain-RAG\\..\\pandas\\doc\\source\\getting_started\\comparison\\comparison_with_spreadsheets.rst line 279 column 1\n",
      "[WARNING] Could not load include file includes/length.rst at C:\\Users\\Hopedom\\Documents\\DS5-LangChain\\Langchain-RAG\\..\\pandas\\doc\\source\\getting_started\\comparison\\comparison_with_spreadsheets.rst line 297 column 1\n",
      "[WARNING] Could not load include file includes/find_substring.rst at C:\\Users\\Hopedom\\Documents\\DS5-LangChain\\Langchain-RAG\\..\\pandas\\doc\\source\\getting_started\\comparison\\comparison_with_spreadsheets.rst line 314 column 1\n",
      "[WARNING] Could not load include file includes/extract_substring.rst at C:\\Users\\Hopedom\\Documents\\DS5-LangChain\\Langchain-RAG\\..\\pandas\\doc\\source\\getting_started\\comparison\\comparison_with_spreadsheets.rst line 326 column 1\n",
      "[WARNING] Could not load include file includes/nth_word.rst at C:\\Users\\Hopedom\\Documents\\DS5-LangChain\\Langchain-RAG\\..\\pandas\\doc\\source\\getting_started\\comparison\\comparison_with_spreadsheets.rst line 337 column 1\n",
      "[WARNING] Could not load include file includes/case.rst at C:\\Users\\Hopedom\\Documents\\DS5-LangChain\\Langchain-RAG\\..\\pandas\\doc\\source\\getting_started\\comparison\\comparison_with_spreadsheets.rst line 347 column 1\n",
      "[WARNING] Could not load include file includes/merge_setup.rst at C:\\Users\\Hopedom\\Documents\\DS5-LangChain\\Langchain-RAG\\..\\pandas\\doc\\source\\getting_started\\comparison\\comparison_with_spreadsheets.rst line 352 column 1\n",
      "[WARNING] Could not load include file includes/merge.rst at C:\\Users\\Hopedom\\Documents\\DS5-LangChain\\Langchain-RAG\\..\\pandas\\doc\\source\\getting_started\\comparison\\comparison_with_spreadsheets.rst line 361 column 1\n",
      "\n",
      " 10%|█         | 22/211 [00:16<01:55,  1.63it/s][WARNING] Could not load include file includes/introduction.rst at C:\\Users\\Hopedom\\Documents\\DS5-LangChain\\Langchain-RAG\\..\\pandas\\doc\\source\\getting_started\\comparison\\comparison_with_spss.rst line 12 column 1\n",
      "[WARNING] Could not load include file includes/copies.rst at C:\\Users\\Hopedom\\Documents\\DS5-LangChain\\Langchain-RAG\\..\\pandas\\doc\\source\\getting_started\\comparison\\comparison_with_spss.rst line 61 column 1\n",
      "[WARNING] Could not load include file includes/length.rst at C:\\Users\\Hopedom\\Documents\\DS5-LangChain\\Langchain-RAG\\..\\pandas\\doc\\source\\getting_started\\comparison\\comparison_with_spss.rst line 157 column 1\n",
      "[WARNING] Could not load include file includes/case.rst at C:\\Users\\Hopedom\\Documents\\DS5-LangChain\\Langchain-RAG\\..\\pandas\\doc\\source\\getting_started\\comparison\\comparison_with_spss.rst line 171 column 1\n",
      "[WARNING] Could not load include file includes/merge_setup.rst at C:\\Users\\Hopedom\\Documents\\DS5-LangChain\\Langchain-RAG\\..\\pandas\\doc\\source\\getting_started\\comparison\\comparison_with_spss.rst line 177 column 1\n",
      "[WARNING] Could not load include file includes/merge.rst at C:\\Users\\Hopedom\\Documents\\DS5-LangChain\\Langchain-RAG\\..\\pandas\\doc\\source\\getting_started\\comparison\\comparison_with_spss.rst line 180 column 1\n",
      "[WARNING] Could not load include file includes/missing.rst at C:\\Users\\Hopedom\\Documents\\DS5-LangChain\\Langchain-RAG\\..\\pandas\\doc\\source\\getting_started\\comparison\\comparison_with_spss.rst line 212 column 1\n",
      "\n",
      " 11%|█         | 23/211 [00:17<01:55,  1.63it/s][WARNING] Could not load include file includes/introduction.rst at C:\\Users\\Hopedom\\Documents\\DS5-LangChain\\Langchain-RAG\\..\\pandas\\doc\\source\\getting_started\\comparison\\comparison_with_sql.rst line 13 column 1\n",
      "[WARNING] Could not load include file includes/copies.rst at C:\\Users\\Hopedom\\Documents\\DS5-LangChain\\Langchain-RAG\\..\\pandas\\doc\\source\\getting_started\\comparison\\comparison_with_sql.rst line 33 column 1\n",
      "[WARNING] Could not load include file includes/filtering.rst at C:\\Users\\Hopedom\\Documents\\DS5-LangChain\\Langchain-RAG\\..\\pandas\\doc\\source\\getting_started\\comparison\\comparison_with_sql.rst line 77 column 1\n",
      "\n",
      " 11%|█▏        | 24/211 [00:18<02:00,  1.55it/s][WARNING] Could not load include file includes/introduction.rst at C:\\Users\\Hopedom\\Documents\\DS5-LangChain\\Langchain-RAG\\..\\pandas\\doc\\source\\getting_started\\comparison\\comparison_with_stata.rst line 14 column 1\n",
      "[WARNING] Could not load include file includes/copies.rst at C:\\Users\\Hopedom\\Documents\\DS5-LangChain\\Langchain-RAG\\..\\pandas\\doc\\source\\getting_started\\comparison\\comparison_with_stata.rst line 70 column 1\n",
      "[WARNING] Could not load include file includes/construct_dataframe.rst at C:\\Users\\Hopedom\\Documents\\DS5-LangChain\\Langchain-RAG\\..\\pandas\\doc\\source\\getting_started\\comparison\\comparison_with_stata.rst line 90 column 1\n",
      "[WARNING] Could not load include file includes/limit.rst at C:\\Users\\Hopedom\\Documents\\DS5-LangChain\\Langchain-RAG\\..\\pandas\\doc\\source\\getting_started\\comparison\\comparison_with_stata.rst line 145 column 1\n",
      "[WARNING] Could not load include file includes/column_operations.rst at C:\\Users\\Hopedom\\Documents\\DS5-LangChain\\Langchain-RAG\\..\\pandas\\doc\\source\\getting_started\\comparison\\comparison_with_stata.rst line 193 column 1\n",
      "[WARNING] Could not load include file includes/filtering.rst at C:\\Users\\Hopedom\\Documents\\DS5-LangChain\\Langchain-RAG\\..\\pandas\\doc\\source\\getting_started\\comparison\\comparison_with_stata.rst line 204 column 1\n",
      "[WARNING] Could not load include file includes/if_then.rst at C:\\Users\\Hopedom\\Documents\\DS5-LangChain\\Langchain-RAG\\..\\pandas\\doc\\source\\getting_started\\comparison\\comparison_with_stata.rst line 216 column 1\n",
      "[WARNING] Could not load include file includes/time_date.rst at C:\\Users\\Hopedom\\Documents\\DS5-LangChain\\Langchain-RAG\\..\\pandas\\doc\\source\\getting_started\\comparison\\comparison_with_stata.rst line 244 column 1\n",
      "[WARNING] Could not load include file includes/column_selection.rst at C:\\Users\\Hopedom\\Documents\\DS5-LangChain\\Langchain-RAG\\..\\pandas\\doc\\source\\getting_started\\comparison\\comparison_with_stata.rst line 260 column 1\n",
      "[WARNING] Could not load include file includes/sorting.rst at C:\\Users\\Hopedom\\Documents\\DS5-LangChain\\Langchain-RAG\\..\\pandas\\doc\\source\\getting_started\\comparison\\comparison_with_stata.rst line 271 column 1\n",
      "[WARNING] Could not load include file includes/length.rst at C:\\Users\\Hopedom\\Documents\\DS5-LangChain\\Langchain-RAG\\..\\pandas\\doc\\source\\getting_started\\comparison\\comparison_with_stata.rst line 288 column 1\n",
      "[WARNING] Could not load include file includes/find_substring.rst at C:\\Users\\Hopedom\\Documents\\DS5-LangChain\\Langchain-RAG\\..\\pandas\\doc\\source\\getting_started\\comparison\\comparison_with_stata.rst line 302 column 1\n",
      "[WARNING] Could not load include file includes/extract_substring.rst at C:\\Users\\Hopedom\\Documents\\DS5-LangChain\\Langchain-RAG\\..\\pandas\\doc\\source\\getting_started\\comparison\\comparison_with_stata.rst line 314 column 1\n",
      "[WARNING] Could not load include file includes/nth_word.rst at C:\\Users\\Hopedom\\Documents\\DS5-LangChain\\Langchain-RAG\\..\\pandas\\doc\\source\\getting_started\\comparison\\comparison_with_stata.rst line 335 column 1\n",
      "[WARNING] Could not load include file includes/case.rst at C:\\Users\\Hopedom\\Documents\\DS5-LangChain\\Langchain-RAG\\..\\pandas\\doc\\source\\getting_started\\comparison\\comparison_with_stata.rst line 358 column 1\n",
      "[WARNING] Could not load include file includes/merge_setup.rst at C:\\Users\\Hopedom\\Documents\\DS5-LangChain\\Langchain-RAG\\..\\pandas\\doc\\source\\getting_started\\comparison\\comparison_with_stata.rst line 363 column 1\n",
      "[WARNING] Could not load include file includes/merge.rst at C:\\Users\\Hopedom\\Documents\\DS5-LangChain\\Langchain-RAG\\..\\pandas\\doc\\source\\getting_started\\comparison\\comparison_with_stata.rst line 419 column 1\n",
      "[WARNING] Could not load include file includes/missing_intro.rst at C:\\Users\\Hopedom\\Documents\\DS5-LangChain\\Langchain-RAG\\..\\pandas\\doc\\source\\getting_started\\comparison\\comparison_with_stata.rst line 426 column 1\n",
      "[WARNING] Could not load include file includes/missing.rst at C:\\Users\\Hopedom\\Documents\\DS5-LangChain\\Langchain-RAG\\..\\pandas\\doc\\source\\getting_started\\comparison\\comparison_with_stata.rst line 439 column 1\n",
      "[WARNING] Could not load include file includes/groupby.rst at C:\\Users\\Hopedom\\Documents\\DS5-LangChain\\Langchain-RAG\\..\\pandas\\doc\\source\\getting_started\\comparison\\comparison_with_stata.rst line 456 column 1\n",
      "[WARNING] Could not load include file includes/transform.rst at C:\\Users\\Hopedom\\Documents\\DS5-LangChain\\Langchain-RAG\\..\\pandas\\doc\\source\\getting_started\\comparison\\comparison_with_stata.rst line 471 column 1\n",
      "\n",
      " 23%|██▎       | 48/211 [00:26<01:08,  2.38it/s][WARNING] Could not load include file includes/titanic.rst at C:\\Users\\Hopedom\\Documents\\DS5-LangChain\\Langchain-RAG\\..\\pandas\\doc\\source\\getting_started\\intro_tutorials\\02_read_write.rst line 22 column 1\n",
      "\n",
      " 23%|██▎       | 49/211 [00:27<01:16,  2.12it/s][WARNING] Could not load include file includes/titanic.rst at C:\\Users\\Hopedom\\Documents\\DS5-LangChain\\Langchain-RAG\\..\\pandas\\doc\\source\\getting_started\\intro_tutorials\\03_subset_data.rst line 22 column 1\n",
      "\n",
      " 24%|██▎       | 50/211 [00:27<01:22,  1.94it/s][WARNING] Could not load include file includes/air_quality_no2.rst at C:\\Users\\Hopedom\\Documents\\DS5-LangChain\\Langchain-RAG\\..\\pandas\\doc\\source\\getting_started\\intro_tutorials\\04_plotting.rst line 29 column 1\n",
      "\n",
      " 24%|██▍       | 51/211 [00:28<01:24,  1.89it/s][WARNING] Could not load include file includes/air_quality_no2.rst at C:\\Users\\Hopedom\\Documents\\DS5-LangChain\\Langchain-RAG\\..\\pandas\\doc\\source\\getting_started\\intro_tutorials\\05_add_columns.rst line 22 column 1\n",
      "\n",
      " 25%|██▍       | 52/211 [00:28<01:25,  1.87it/s][WARNING] Could not load include file includes/titanic.rst at C:\\Users\\Hopedom\\Documents\\DS5-LangChain\\Langchain-RAG\\..\\pandas\\doc\\source\\getting_started\\intro_tutorials\\06_calculate_statistics.rst line 22 column 1\n",
      "\n",
      " 25%|██▌       | 53/211 [00:29<01:26,  1.83it/s][WARNING] Could not load include file includes/titanic.rst at C:\\Users\\Hopedom\\Documents\\DS5-LangChain\\Langchain-RAG\\..\\pandas\\doc\\source\\getting_started\\intro_tutorials\\07_reshape_table_layout.rst line 22 column 1\n",
      "\n",
      " 26%|██▌       | 54/211 [00:30<01:29,  1.76it/s][WARNING] Reference not found for 'air_quality' at C:\\Users\\Hopedom\\Documents\\DS5-LangChain\\Langchain-RAG\\..\\pandas\\doc\\source\\getting_started\\intro_tutorials\\08_combine_dataframes.rst line 323 column 1\n",
      "[WARNING] Reference not found for 'air_quality' at C:\\Users\\Hopedom\\Documents\\DS5-LangChain\\Langchain-RAG\\..\\pandas\\doc\\source\\getting_started\\intro_tutorials\\08_combine_dataframes.rst line 323 column 1\n",
      "\n",
      " 27%|██▋       | 56/211 [00:31<01:31,  1.69it/s][WARNING] Could not load include file includes/titanic.rst at C:\\Users\\Hopedom\\Documents\\DS5-LangChain\\Langchain-RAG\\..\\pandas\\doc\\source\\getting_started\\intro_tutorials\\10_text_data.rst line 21 column 1\n",
      "\n",
      " 32%|███▏      | 67/211 [00:35<00:51,  2.78it/s][WARNING] Reference not found for 'index.is' at C:\\Users\\Hopedom\\Documents\\DS5-LangChain\\Langchain-RAG\\..\\pandas\\doc\\source\\reference\\indexing.rst line 492 column 1\n",
      "\n",
      " 38%|███▊      | 80/211 [00:41<01:24,  1.55it/s][WARNING] Reference not found for 'np.bool' at C:\\Users\\Hopedom\\Documents\\DS5-LangChain\\Langchain-RAG\\..\\pandas\\doc\\source\\user_guide\\basics.rst line 2410 column 1\n",
      "\n",
      " 39%|███▉      | 82/211 [00:43<01:36,  1.34it/s][WARNING] Reference not found for 'np.str' at C:\\Users\\Hopedom\\Documents\\DS5-LangChain\\Langchain-RAG\\..\\pandas\\doc\\source\\user_guide\\categorical.rst line 1182 column 1\n",
      "[WARNING] Reference not found for 'np.str' at C:\\Users\\Hopedom\\Documents\\DS5-LangChain\\Langchain-RAG\\..\\pandas\\doc\\source\\user_guide\\categorical.rst line 1182 column 1\n",
      "\n",
      " 44%|████▍     | 93/211 [00:51<01:30,  1.30it/s][WARNING] Reference not found for '\"level\"' at C:\\Users\\Hopedom\\Documents\\DS5-LangChain\\Langchain-RAG\\..\\pandas\\doc\\source\\user_guide\\io.rst line 6602 column 1\n",
      "[WARNING] Reference not found for '\"123,000\"' at C:\\Users\\Hopedom\\Documents\\DS5-LangChain\\Langchain-RAG\\..\\pandas\\doc\\source\\user_guide\\io.rst line 6602 column 1\n",
      "[WARNING] Reference not found for '\"23,000\"' at C:\\Users\\Hopedom\\Documents\\DS5-LangChain\\Langchain-RAG\\..\\pandas\\doc\\source\\user_guide\\io.rst line 6602 column 1\n",
      "[WARNING] Reference not found for '\"1,234,018\"' at C:\\Users\\Hopedom\\Documents\\DS5-LangChain\\Langchain-RAG\\..\\pandas\\doc\\source\\user_guide\\io.rst line 6602 column 1\n",
      "\n",
      " 46%|████▋     | 98/211 [00:57<01:37,  1.16it/s][WARNING] Reference not found for 'pa.list' at C:\\Users\\Hopedom\\Documents\\DS5-LangChain\\Langchain-RAG\\..\\pandas\\doc\\source\\user_guide\\pyarrow.rst line 198 column 1\n",
      "\n",
      " 48%|████▊     | 102/211 [00:59<01:16,  1.43it/s][WARNING] Reference not found for '\"b\\\", np.nan, \\\"a\"' at C:\\Users\\Hopedom\\Documents\\DS5-LangChain\\Langchain-RAG\\..\\pandas\\doc\\source\\user_guide\\text.rst line 783 column 1\n",
      "[WARNING] Reference not found for '\"b\\\", np.nan, \\\"a\"' at C:\\Users\\Hopedom\\Documents\\DS5-LangChain\\Langchain-RAG\\..\\pandas\\doc\\source\\user_guide\\text.rst line 783 column 1\n",
      "\n",
      " 51%|█████     | 107/211 [01:05<01:41,  1.03it/s][WARNING] Could not convert TeX math y_t = \\frac{\\sum_{i=0}^t w_i x_{t-i}}{\\sum_{i=0}^t w_i},, rendering as TeX\n",
      "[WARNING] Could not convert TeX math y_t = \\frac{x_t + (1 - \\alpha)x_{t-1} + (1 - \\alpha)^2 x_{t-2} + ...\n",
      "  + (1 - \\alpha)^t x_{0}}{1 + (1 - \\alpha) + (1 - \\alpha)^2 + ...\n",
      "  + (1 - \\alpha)^t}, rendering as TeX\n",
      "[WARNING] Could not convert TeX math \\begin{aligned}\n",
      "  y_0 &= x_0 \\\\\n",
      "  y_t &= (1 - \\alpha) y_{t-1} + \\alpha x_t,\n",
      "  \\end{aligned}, rendering as TeX\n",
      "[WARNING] Could not convert TeX math \\begin{aligned}\n",
      "  w_i = \\begin{cases}\n",
      "      \\alpha (1 - \\alpha)^i & \\text{if } i < t \\\\\n",
      "      (1 - \\alpha)^i        & \\text{if } i = t.\n",
      "  \\end{cases}\n",
      "  \\end{aligned}, rendering as TeX\n",
      "[WARNING] Could not convert TeX math y_t = \\frac{x_t + (1 - \\alpha)x_{t-1} + (1 - \\alpha)^2 x_{t-2} + ...}\n",
      "  {1 + (1 - \\alpha) + (1 - \\alpha)^2 + ...}, rendering as TeX\n",
      "[WARNING] Could not convert TeX math \\begin{aligned}\n",
      "  y_t &= \\frac{x_t + (1 - \\alpha)x_{t-1} + (1 - \\alpha)^2 x_{t-2} + ...}\n",
      "  {\\frac{1}{1 - (1 - \\alpha)}}\\\\\n",
      "[WARNING]   &= \\alpha \\\\\n",
      "[WARNING]   &= \\alpha x_t + [(1-\\alpha)x_{t-1} + (1 - \\alpha)^2 x_{t-2} + ...]\\alpha \\\\\n",
      "[WARNING]   &= \\alpha x_t + (1 - \\alpha)[x_{t-1} + (1 - \\alpha) x_{t-2} + ...]\\alpha\\\\\n",
      "  &= \\alpha x_t + (1 - \\alpha) y_{t-1}\n",
      "  \\end{aligned}, rendering as TeX\n",
      "[WARNING] Could not convert TeX math \\begin{aligned}\n",
      "  \\alpha =\n",
      "   \\begin{cases}\n",
      "       \\frac{2}{s + 1},            & \\text{for span}\\ s \\geq 1\\\\\n",
      "       \\frac{1}{1 + c},            & \\text{for center of mass}\\ c \\geq 0\\\\\n",
      "       1 - e^{\\frac{\\log 0.5}{h}}, & \\text{for half-life}\\ h > 0\n",
      "   \\end{cases}\n",
      "  \\end{aligned}, rendering as TeX\n",
      "[WARNING] Could not convert TeX math y_t = \\frac{\\sum_{i=0}^t 0.5^\\frac{t_{t} - t_{i}}{\\lambda} x_{t-i}}{\\sum_{i=0}^t 0.5^\\frac{t_{t} - t_{i}}{\\lambda}},, rendering as TeX\n",
      "[WARNING] Could not convert TeX math \\frac{(1-\\alpha)^2 \\cdot 3 + 1 \\cdot 5}{(1-\\alpha)^2 + 1}., rendering as TeX\n",
      "[WARNING] Could not convert TeX math \\frac{(1-\\alpha) \\cdot 3 + 1 \\cdot 5}{(1-\\alpha) + 1}., rendering as TeX\n",
      "[WARNING] Could not convert TeX math \\frac{\\left(\\sum_{i=0}^t w_i\\right)^2}{\\left(\\sum_{i=0}^t w_i\\right)^2 - \\sum_{i=0}^t w_i^2}., rendering as TeX\n",
      "\n",
      " 54%|█████▍    | 114/211 [01:10<01:24,  1.15it/s][WARNING] Reference not found for '\"b\\\", np.nan, \\\"a\"' at C:\\Users\\Hopedom\\Documents\\DS5-LangChain\\Langchain-RAG\\..\\pandas\\doc\\source\\whatsnew\\v0.13.1.rst line 483 column 1\n",
      "\n",
      " 55%|█████▍    | 115/211 [01:11<01:19,  1.21it/s][WARNING] Reference not found for 'np.int' at C:\\Users\\Hopedom\\Documents\\DS5-LangChain\\Langchain-RAG\\..\\pandas\\doc\\source\\whatsnew\\v0.14.0.rst line 1145 column 1\n",
      "\n",
      " 60%|█████▉    | 126/211 [01:20<01:14,  1.14it/s][WARNING] Reference not found for '\"b\\\", \\\"a\"' at C:\\Users\\Hopedom\\Documents\\DS5-LangChain\\Langchain-RAG\\..\\pandas\\doc\\source\\whatsnew\\v0.18.1.rst line 846 column 1\n",
      "[WARNING] Reference not found for '\"c\\\"]) idx.str.get_dummies(\\\"\"' at C:\\Users\\Hopedom\\Documents\\DS5-LangChain\\Langchain-RAG\\..\\pandas\\doc\\source\\whatsnew\\v0.18.1.rst line 846 column 1\n",
      "\n",
      " 62%|██████▏   | 130/211 [01:24<01:04,  1.26it/s][WARNING] Reference not found for 'np.r' at C:\\Users\\Hopedom\\Documents\\DS5-LangChain\\Langchain-RAG\\..\\pandas\\doc\\source\\whatsnew\\v0.20.0.rst line 1841 column 1\n",
      "\n",
      " 75%|███████▍  | 158/211 [01:44<00:31,  1.66it/s][WARNING] Reference not found for 'rolling' at C:\\Users\\Hopedom\\Documents\\DS5-LangChain\\Langchain-RAG\\..\\pandas\\doc\\source\\whatsnew\\v0.9.0.rst line 111 column 1\n",
      "\n",
      " 79%|███████▊  | 166/211 [01:49<00:26,  1.70it/s][WARNING] Reference not found for 'read' at C:\\Users\\Hopedom\\Documents\\DS5-LangChain\\Langchain-RAG\\..\\pandas\\doc\\source\\whatsnew\\v1.1.0.rst line 1233 column 1\n",
      "\n",
      " 90%|████████▉ | 189/211 [02:05<00:14,  1.56it/s][WARNING] Reference not found for 'pa.list' at C:\\Users\\Hopedom\\Documents\\DS5-LangChain\\Langchain-RAG\\..\\pandas\\doc\\source\\whatsnew\\v1.5.0.rst line 1315 column 1\n",
      "\n",
      " 96%|█████████▌| 202/211 [02:15<00:05,  1.63it/s][WARNING] Reference not found for 'pa.list' at C:\\Users\\Hopedom\\Documents\\DS5-LangChain\\Langchain-RAG\\..\\pandas\\doc\\source\\whatsnew\\v2.2.0.rst line 953 column 1\n",
      "\n",
      "100%|██████████| 211/211 [02:21<00:00,  1.49it/s]"
     ]
    },
    {
     "name": "stdout",
     "output_type": "stream",
     "text": [
      "로드된 Pandas 문서 객체 개수: 211개\n"
     ]
    },
    {
     "name": "stderr",
     "output_type": "stream",
     "text": [
      "\n"
     ]
    }
   ],
   "source": [
    "import os\n",
    "from langchain_community.document_loaders import DirectoryLoader, UnstructuredFileLoader\n",
    "from langchain_community.vectorstores import Chroma\n",
    "from langchain_text_splitters import RecursiveCharacterTextSplitter\n",
    "from langchain_openai import OpenAIEmbeddings, ChatOpenAI\n",
    "from typing import List\n",
    "\n",
    "# 📌 1. 로컬 .rst 파일 로드\n",
    "# 로컬 Pandas 문서 소스 경로\n",
    "PANDAS_DOC_PATH = \"../pandas/doc/source\"\n",
    "print(f\"로컬 경로 '{PANDAS_DOC_PATH}'에서 .rst 파일 로드 시작...\")\n",
    "\n",
    "# DirectoryLoader: 지정된 경로에서 .rst 파일을 찾고 UnstructuredFileLoader로 로드합니다.\n",
    "# .rst 파일은 일반 텍스트 파일이므로 정확한 파싱을 위해 UnstructuredFileLoader를 사용합니다.\n",
    "loader = DirectoryLoader(\n",
    "    path=PANDAS_DOC_PATH,\n",
    "    glob=\"**/*.rst\",  # 재귀적으로 모든 .rst 파일 검색\n",
    "    loader_cls=UnstructuredFileLoader,\n",
    "    loader_kwargs={\"autodetect_encoding\": True},\n",
    "    show_progress=True\n",
    ")\n",
    "\n",
    "# .rst 파일의 내용을 LangChain Document 객체로 로드\n",
    "documents = loader.load()\n",
    "\n",
    "print(f\"로드된 Pandas 문서 객체 개수: {len(documents)}개\")"
   ]
  },
  {
   "cell_type": "markdown",
   "id": "bf17883f",
   "metadata": {},
   "source": [
    "### [청크 분할 및 메타데이터 추가]"
   ]
  },
  {
   "cell_type": "code",
   "execution_count": 5,
   "id": "48ca3061",
   "metadata": {},
   "outputs": [
    {
     "name": "stdout",
     "output_type": "stream",
     "text": [
      "분할된 최종 청크 개수: 3449개\n",
      "첫 번째 청크의 메타데이터: {'source': '..\\\\pandas\\\\doc\\\\source\\\\development\\\\community.rst', 'library': 'pandas'}\n"
     ]
    }
   ],
   "source": [
    "# PDF 파일 예시와 달리, 문서 원본이 rst이므로 chunk_overlap을 200으로 설정하여 문맥 보존 강화\n",
    "text_splitter = RecursiveCharacterTextSplitter(\n",
    "    chunk_size=1000, \n",
    "    chunk_overlap=200, \n",
    "    separators=[\"\\n\\n\", \"\\n\", \" \", \"\"] # rst 마크업을 고려한 기본 분리자\n",
    ")\n",
    "chunks = text_splitter.split_documents(documents)\n",
    "\n",
    "# RAG 멀티 도메인 필터링을 위해 'library': 'pandas' 메타데이터 추가\n",
    "for chunk in chunks:\n",
    "    # DirectoryLoader가 'source' 경로를 자동으로 추가해줍니다.\n",
    "    chunk.metadata['library'] = 'pandas' \n",
    "    \n",
    "print(f\"분할된 최종 청크 개수: {len(chunks)}개\")\n",
    "print(f\"첫 번째 청크의 메타데이터: {chunks[0].metadata}\")"
   ]
  },
  {
   "cell_type": "markdown",
   "id": "d466bfce",
   "metadata": {},
   "source": [
    "### [벡터 임베딩 및 ChromaDB 저장]"
   ]
  },
  {
   "cell_type": "code",
   "execution_count": 6,
   "id": "bee9fdeb",
   "metadata": {},
   "outputs": [
    {
     "name": "stdout",
     "output_type": "stream",
     "text": [
      "\n",
      "벡터 임베딩 및 ChromaDB 저장 시작 (OpenAI 'text-embedding-3-small' 사용)...\n",
      "✅ Pandas RAG 데이터베이스 구축 완료.\n",
      "ChromaDB 저장 위치: './chromadb/pandas_rst'\n"
     ]
    }
   ],
   "source": [
    "#ChromaDB에 청크들을 벡터 임베딩으로 저장(OpenAI 임베딩 모델 활용)\n",
    "print(\"\\n벡터 임베딩 및 ChromaDB 저장 시작 (OpenAI 'text-embedding-3-small' 사용)...\")\n",
    "\n",
    "vectorstore = Chroma.from_documents(\n",
    "    chunks, \n",
    "    OpenAIEmbeddings(model = 'text-embedding-3-small'),\n",
    "    persist_directory='./chromadb/pandas_rst' \n",
    ")\n",
    "retriever = vectorstore.as_retriever()\n",
    "\n",
    "print(\"✅ Pandas RAG 데이터베이스 구축 완료.\")\n",
    "print(f\"ChromaDB 저장 위치: './chromadb/pandas_rst'\")"
   ]
  },
  {
   "cell_type": "markdown",
   "id": "10b719b0",
   "metadata": {},
   "source": [
    "## **[프롬프트와 모델 선언]**"
   ]
  },
  {
   "cell_type": "code",
   "execution_count": null,
   "id": "bcbb48c7",
   "metadata": {},
   "outputs": [
    {
     "name": "stdout",
     "output_type": "stream",
     "text": [
      "경고: LangChain Hub 프롬프트 로드에 실패했습니다. (오류: Loading from the deprecated github-based Hub is no longer supported. Please use the new LangChain Hub at https://smith.langchain.com/hub instead.) 프롬프트를 수동으로 정의합니다.\n"
     ]
    }
   ],
   "source": [
    "from langchain_core.prompts import load_prompt, ChatPromptTemplate\n",
    "from langchain_core.runnables import RunnablePassthrough\n",
    "from langchain_core.output_parsers import StrOutputParser\n",
    "\n",
    "# 프롬프트 로드 (LangChain Hub 또는 수동 정의)\n",
    "\n",
    "try:\n",
    "    # LangChain Hub에서 공식 RAG 프롬프트를 로드합니다.\n",
    "    # rlm/rag-prompt 대신 'lc://prompts/rag-prompt/rag-prompt' 경로를 사용합니다.\n",
    "    prompt = load_prompt(\"lc://prompts/rag-prompt/rag-prompt\")\n",
    "    \n",
    "    # 로드된 프롬프트의 유형과 메시지 수 확인\n",
    "    print(\"INFO: LangChain Hub 프롬프트가 'load_prompt'를 통해 성공적으로 로드되었습니다.\")\n",
    "    # print(f\"프롬프트 유형: {type(prompt)}, 메시지 수: {len(prompt.messages)}\")\n",
    "\n",
    "except Exception as e:\n",
    "    # load_prompt가 실패하거나 인터넷 연결 문제 등이 있을 경우를 대비한 대체 방법\n",
    "    print(f\"경고: LangChain Hub 프롬프트 로드에 실패했습니다. (오류: {e}) 프롬프트를 수동으로 정의합니다.\")\n",
    "    \n",
    "    # RAG 프롬프트를 수동으로 정의 (rlm/rag-prompt의 일반적인 템플릿과 유사)\n",
    "    prompt = ChatPromptTemplate.from_messages(\n",
    "        [\n",
    "            (\n",
    "                \"system\",\n",
    "                \"You are an assistant for question-answering tasks. \"\n",
    "                \"Use the following pieces of retrieved context to answer the question. \"\n",
    "                \"If you don't know the answer, just say that you don't know. \"\n",
    "                \"Use three sentences maximum and keep the answer concise.\\n\\n\"\n",
    "                \"Context: {context}\",\n",
    "            ),\n",
    "            (\"human\", \"{question}\"),\n",
    "        ]\n",
    "    )"
   ]
  },
  {
   "cell_type": "code",
   "execution_count": 8,
   "id": "56fe120f",
   "metadata": {},
   "outputs": [
    {
     "data": {
      "text/plain": [
       "ChatPromptTemplate(input_variables=['context', 'question'], input_types={}, partial_variables={}, messages=[SystemMessagePromptTemplate(prompt=PromptTemplate(input_variables=['context'], input_types={}, partial_variables={}, template=\"You are an assistant for question-answering tasks. Use the following pieces of retrieved context to answer the question. If you don't know the answer, just say that you don't know. Use three sentences maximum and keep the answer concise.\\n\\nContext: {context}\"), additional_kwargs={}), HumanMessagePromptTemplate(prompt=PromptTemplate(input_variables=['question'], input_types={}, partial_variables={}, template='{question}'), additional_kwargs={})])"
      ]
     },
     "execution_count": 8,
     "metadata": {},
     "output_type": "execute_result"
    }
   ],
   "source": [
    "prompt"
   ]
  },
  {
   "cell_type": "code",
   "execution_count": 9,
   "id": "ffa42cb2",
   "metadata": {},
   "outputs": [
    {
     "data": {
      "text/plain": [
       "[SystemMessagePromptTemplate(prompt=PromptTemplate(input_variables=['context'], input_types={}, partial_variables={}, template=\"You are an assistant for question-answering tasks. Use the following pieces of retrieved context to answer the question. If you don't know the answer, just say that you don't know. Use three sentences maximum and keep the answer concise.\\n\\nContext: {context}\"), additional_kwargs={}),\n",
       " HumanMessagePromptTemplate(prompt=PromptTemplate(input_variables=['question'], input_types={}, partial_variables={}, template='{question}'), additional_kwargs={})]"
      ]
     },
     "execution_count": 9,
     "metadata": {},
     "output_type": "execute_result"
    }
   ],
   "source": [
    "prompt.messages"
   ]
  },
  {
   "cell_type": "code",
   "execution_count": 10,
   "id": "dea33a40",
   "metadata": {},
   "outputs": [
    {
     "name": "stdout",
     "output_type": "stream",
     "text": [
      "✅ LLM 선언 완료: gpt-5-nano\n"
     ]
    }
   ],
   "source": [
    "# 언어 모델 (LLM) 선언\n",
    "\n",
    "# 질문-답변 생성에 사용할 모델 선언\n",
    "llm = ChatOpenAI(model=\"gpt-5-nano\", temperature=0)\n",
    "\n",
    "print(f\"✅ LLM 선언 완료: {llm.model_name}\")"
   ]
  },
  {
   "cell_type": "markdown",
   "id": "21a28f3a",
   "metadata": {},
   "source": [
    "## **[Chain 구축]**\n",
    "\n",
    "1. 질문을 받습니다.\n",
    "2. retriever가 문서 조각(docs)을 검색합니다.\n",
    "3. format_docs 함수가 docs를 단일 문자열 {context}로 만듭니다.\n",
    "4. {context}와 {question}이 prompt 템플릿에 들어갑니다.\n",
    "5. LLM이 답변을 생성하고, StrOutputParser가 이를 문자열로 변환합니다."
   ]
  },
  {
   "cell_type": "code",
   "execution_count": 11,
   "id": "c5765fbe",
   "metadata": {},
   "outputs": [],
   "source": [
    "# Retriever로 검색한 유사 문서의 내용을 하나의 string으로 결합하는 함수 (Format Docs)\n",
    "def format_docs(docs):\n",
    "    \"\"\"검색된 LangChain Document 객체들을 하나의 문자열 컨텍스트로 결합합니다.\"\"\"\n",
    "    return \"\\n\\n\".join(doc.page_content for doc in docs)"
   ]
  },
  {
   "cell_type": "code",
   "execution_count": 12,
   "id": "ecf1b22a",
   "metadata": {},
   "outputs": [
    {
     "name": "stdout",
     "output_type": "stream",
     "text": [
      "✅ RAG 체인(rag_chain) 구축 완료.\n"
     ]
    }
   ],
   "source": [
    "rag_chain = (\n",
    "    {\n",
    "        # context: retriever의 검색 결과를 format_docs 함수를 통해 문자열로 전달\n",
    "        \"context\": retriever | format_docs, \n",
    "        # question: 원본 질문을 그대로 다음 단계로 전달\n",
    "        \"question\": RunnablePassthrough()\n",
    "    }\n",
    "    | prompt  # 이전에 수동 정의된 prompt 객체 사용\n",
    "    | llm\n",
    "    | StrOutputParser()\n",
    ")\n",
    "\n",
    "print(\"✅ RAG 체인(rag_chain) 구축 완료.\")"
   ]
  },
  {
   "cell_type": "code",
   "execution_count": 13,
   "id": "abd35a47",
   "metadata": {},
   "outputs": [
    {
     "name": "stdout",
     "output_type": "stream",
     "text": [
      "             +---------------------------------+          \n",
      "             | Parallel<context,question>Input |          \n",
      "             +---------------------------------+          \n",
      "                    ***                ***                \n",
      "                 ***                      ***             \n",
      "               **                            ***          \n",
      "+----------------------+                        **        \n",
      "| VectorStoreRetriever |                         *        \n",
      "+----------------------+                         *        \n",
      "            *                                    *        \n",
      "            *                                    *        \n",
      "            *                                    *        \n",
      "    +-------------+                       +-------------+ \n",
      "    | format_docs |                       | Passthrough | \n",
      "    +-------------+*                      +-------------+ \n",
      "                    ***                ***                \n",
      "                       ***          ***                   \n",
      "                          **      **                      \n",
      "            +----------------------------------+          \n",
      "            | Parallel<context,question>Output |          \n",
      "            +----------------------------------+          \n",
      "                              *                           \n",
      "                              *                           \n",
      "                              *                           \n",
      "                    +--------------------+                \n",
      "                    | ChatPromptTemplate |                \n",
      "                    +--------------------+                \n",
      "                              *                           \n",
      "                              *                           \n",
      "                              *                           \n",
      "                        +------------+                    \n",
      "                        | ChatOpenAI |                    \n",
      "                        +------------+                    \n",
      "                              *                           \n",
      "                              *                           \n",
      "                              *                           \n",
      "                     +-----------------+                  \n",
      "                     | StrOutputParser |                  \n",
      "                     +-----------------+                  \n",
      "                              *                           \n",
      "                              *                           \n",
      "                              *                           \n",
      "                  +-----------------------+               \n",
      "                  | StrOutputParserOutput |               \n",
      "                  +-----------------------+               \n"
     ]
    }
   ],
   "source": [
    "rag_chain.get_graph().print_ascii()"
   ]
  },
  {
   "cell_type": "markdown",
   "id": "25bb847f",
   "metadata": {},
   "source": [
    "## [RAG 질의 테스트]"
   ]
  },
  {
   "cell_type": "code",
   "execution_count": 14,
   "id": "9617fe8c",
   "metadata": {},
   "outputs": [
    {
     "name": "stdout",
     "output_type": "stream",
     "text": [
      "\n",
      "[질문]: Pandas에서 누락된 값(Missing Values)을 확인하는 가장 일반적인 메서드는 무엇인가요?\n",
      "\n",
      "[답변]: 가장 일반적으로 누락 값을 확인하려면 isna()를 사용합니다(데이터프레임/시리즈 모두에 적용). isnull()도 동의어로 동일하게 사용할 수 있습니다.\n"
     ]
    }
   ],
   "source": [
    "question = \"Pandas에서 누락된 값(Missing Values)을 확인하는 가장 일반적인 메서드는 무엇인가요?\"\n",
    "print(f\"\\n[질문]: {question}\")\n",
    "\n",
    "# RAG 체인을 통해 질문 실행\n",
    "response = rag_chain.invoke(question)\n",
    "print(f\"\\n[답변]: {response}\")"
   ]
  },
  {
   "cell_type": "code",
   "execution_count": 15,
   "id": "525811b6",
   "metadata": {},
   "outputs": [
    {
     "name": "stdout",
     "output_type": "stream",
     "text": [
      "\n",
      "[질문]: Pandas에서 datetime 형식의 열을 처리하는 방법은 무엇인가요?\n",
      "\n",
      "[답변]: - 문자열로 된 datetime 열은 pd.to_datetime(열)로 변환해 Timestamp/datetime64 객체로 다룰 수 있어 연도나 요일 같은 연산이 가능합니다.\n",
      "- 파일을 읽을 때는 read_csv(..., parse_dates=['datetime'])처럼 파라미터를 지정해 자동으로 Timestamp로 변환할 수 있습니다.\n",
      "- pandas의 누락 값은 NaT이며, 시간대가 있는/없는 형태를 다루려면 Timestamp와 DatetimeArray를 이용해 시간대를 관리할 수 있습니다.\n"
     ]
    }
   ],
   "source": [
    "question = \"Pandas에서 datetime 형식의 열을 처리하는 방법은 무엇인가요?\"\n",
    "print(f\"\\n[질문]: {question}\")\n",
    "\n",
    "# RAG 체인을 통해 질문 실행\n",
    "response = rag_chain.invoke(question)\n",
    "print(f\"\\n[답변]: {response}\")"
   ]
  },
  {
   "cell_type": "code",
   "execution_count": null,
   "id": "72327715",
   "metadata": {},
   "outputs": [],
   "source": []
  }
 ],
 "metadata": {
  "kernelspec": {
   "display_name": "rag_final_env",
   "language": "python",
   "name": "python3"
  },
  "language_info": {
   "codemirror_mode": {
    "name": "ipython",
    "version": 3
   },
   "file_extension": ".py",
   "mimetype": "text/x-python",
   "name": "python",
   "nbconvert_exporter": "python",
   "pygments_lexer": "ipython3",
   "version": "3.10.19"
  }
 },
 "nbformat": 4,
 "nbformat_minor": 5
}
